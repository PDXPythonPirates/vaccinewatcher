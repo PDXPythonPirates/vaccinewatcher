{
  "nbformat": 4,
  "nbformat_minor": 0,
  "metadata": {
    "colab": {
      "name": "Vaccine Watcher",
      "provenance": [],
      "collapsed_sections": []
    },
    "kernelspec": {
      "name": "python3",
      "display_name": "Python 3"
    },
    "language_info": {
      "name": "python"
    }
  },
  "cells": [
    {
      "cell_type": "markdown",
      "metadata": {
        "id": "GlpW3X0yEtYn"
      },
      "source": [
        "# Run Me First\n",
        "\n",
        "I suggest making a copy of this notebook first before running."
      ]
    },
    {
      "cell_type": "code",
      "metadata": {
        "id": "_Nwt8xeh58BP"
      },
      "source": [
        "\n",
        "import requests\n",
        "\n",
        "url = 'http://ipinfo.io/json'\n",
        "response = requests.get(url=url)\n",
        "loc = response.json()\n",
        "if loc['country'] != 'US':\n",
        "    print(f'This notebook is located in {loc[\"country\"]} and not the US. This will likely run into issues. I suggest resetting your runtime.')\n",
        "else:\n",
        "    !apt-get update && apt install chromium-chromedriver\n",
        "    !pip install --upgrade git+https://github.com/trisongz/vaccinewatcher\n",
        "\n",
        "\n"
      ],
      "execution_count": null,
      "outputs": []
    },
    {
      "cell_type": "code",
      "metadata": {
        "colab": {
          "base_uri": "https://localhost:8080/"
        },
        "id": "hLkrOYlkCpqh",
        "outputId": "55146635-22a9-433b-8fbf-f011d166e2d3"
      },
      "source": [
        "!vaccinewatcher --city \"Houston\" --state \"Texas\" --abbr \"TX\" --zip \"77056\""
      ],
      "execution_count": null,
      "outputs": [
        {
          "output_type": "stream",
          "text": [
            "\u001b[38;5;111m[VaccineWatcher] log  \u001b[0m: Initialized VaccineWatcher with Config(city='Houston', state='Texas', state_abbr='TX', zipcode='77056'). Will Check every 600 secs. Walgreens: True. CVS: True\n",
            "Call .run() to start daemon\n",
            "Vaccine Watcher Active\n",
            "\u001b[38;5;111m[VaccineWatcher] info \u001b[0m: CVS has Available Appointments in HOUSTON, TX\n"
          ],
          "name": "stdout"
        }
      ]
    }
  ]
}